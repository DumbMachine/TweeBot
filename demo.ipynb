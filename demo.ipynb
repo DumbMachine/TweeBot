{
 "cells": [
  {
   "cell_type": "code",
   "execution_count": 52,
   "metadata": {},
   "outputs": [],
   "source": [
    "import seaborn as sns\n",
    "import tweepy\n",
    "from textblob import TextBlob\n",
    "import matplotlib.pyplot as plt\n",
    "from nltk.corpus import stopwords\n",
    "import requests\n",
    "import json\n",
    "import random\n",
    "import folium\n",
    "from folium.plugins import MarkerCluster\n",
    "from branca.element import Template, MacroElement\n",
    "KEY= \"G5XlhCqsGp7pxVgAjGTFu04yYvnD8esq\"\n"
   ]
  },
  {
   "cell_type": "code",
   "execution_count": 4,
   "metadata": {},
   "outputs": [],
   "source": [
    "consumer_key =  '2XZ8WwA60fjcn30nUwMcZGNoZ'\n",
    "consumer_secret = 'dlWKue8WH17vPRJO3bUJb9w4I1KJHQaD6MV7W0eTJFmeKQ6Gcm'\n",
    "access_token = '753985003328012288-tPRbv9Za68YBLdelJEznkud2vJSkxQj'\n",
    "access_token_secret = 'mEXfWUrHdwKLDLlqObzWsI9AHB6pdpnM1xNFH0IV8Pmju'\n",
    "auth = tweepy.OAuthHandler(consumer_key, consumer_secret)\n",
    "auth.set_access_token(access_token, access_token_secret)\n",
    "api = tweepy.API(auth)"
   ]
  },
  {
   "cell_type": "code",
   "execution_count": 5,
   "metadata": {},
   "outputs": [],
   "source": [
    "tweets = []\n",
    "for page in tweepy.Cursor(api.search , q=\"#trump\" , count = 5,languages=[\"en\"],tweet_mode='extended').pages(10):\n",
    "    for tweet in page:\n",
    "        hashtags_=[]\n",
    "        urls=[]\n",
    "        for hashtag in tweet.entities[\"hashtags\"]:\n",
    "            hashtags_.append(hashtag[\"text\"])\n",
    "#        for media in tweet.entities[\"media\"]:\n",
    "#            urls.append(media[\"expanded_url\"])\n",
    "        geo_url = \"https://www.mapquestapi.com/geocoding/v1/address?key=KEY&inFormat=kvp&outFormat=json&location=LOCATION&thumbMaps=false\".replace(\"KEY\", KEY).replace(\"LOCATION\",tweet.user.location)\n",
    "        try:\n",
    "            r = requests.get(url = geo_url)\n",
    "            location = json.loads(r.content.decode('utf-8'))[\"results\"][0][\"locations\"][0][\"adminArea1\"]\n",
    "            coordinates = [json.loads(r.content.decode('utf-8'))[\"results\"][0][\"locations\"][0][\"latLng\"][\"lat\"],json.loads(r.content.decode('utf-8'))[\"results\"][0][\"locations\"][0][\"latLng\"][\"lng\"]]\n",
    "        except:\n",
    "            location = \"\"\n",
    "            coordinates = []\n",
    "        twe = {\"text\": tweet.full_text,\n",
    "               \"cleaned_text\": \" \".join([word for word in tweet.full_text.split() if word not in stopwords.words('english')]).replace(\"#\",\"\").replace(\"*\",\"\"),\n",
    "               \"location\": location.lower(),\n",
    "               \"username\": tweet.user.screen_name,\n",
    "               \"retweets\": tweet.retweet_count,\n",
    "               \"favcount\": tweet.user.favourites_count,\n",
    "               \"hastags\": hashtags_,\n",
    "               \"coordinates\" : coordinates,\n",
    "               \"sentiment\": TextBlob(\" \".join([word for word in tweet.full_text.split() if word not in stopwords.words('english')])).sentiment.polarity,\n",
    "               \"subjectivity\": TextBlob(\" \".join([word for word in tweet.full_text.split() if word not in stopwords.words('english')])).sentiment.subjectivity,\n",
    "                }\n",
    "        tweets.append(twe)\n"
   ]
  },
  {
   "cell_type": "code",
   "execution_count": 64,
   "metadata": {},
   "outputs": [],
   "source": [
    "coord_dict = {}\n",
    "for tweet in tweets:\n",
    "    if tweet[\"location\"]:\n",
    "        coord_dict[tweet[\"location\"]] = tweet[\"coordinates\"]"
   ]
  },
  {
   "cell_type": "code",
   "execution_count": 7,
   "metadata": {},
   "outputs": [],
   "source": [
    "\n",
    "locations = []\n",
    "for tweet in tweets:\n",
    "    if tweet[\"location\"]:\n",
    "        locations.append(tweet[\"location\"])\n",
    "        \n",
    "        \n",
    "from collections import Counter\n",
    "myDict=Counter(locations)\n",
    "myDict= dict(myDict)\n"
   ]
  },
  {
   "cell_type": "code",
   "execution_count": 8,
   "metadata": {},
   "outputs": [
    {
     "data": {
      "text/plain": [
       "{'us': 20, 'in': 1, 'nl': 1, 'au': 1, 'gb': 2, 'ca': 1, 'ru': 1, 'es': 1}"
      ]
     },
     "execution_count": 8,
     "metadata": {},
     "output_type": "execute_result"
    }
   ],
   "source": [
    "myDict"
   ]
  },
  {
   "cell_type": "code",
   "execution_count": 65,
   "metadata": {},
   "outputs": [],
   "source": [
    "for coord in coord_dict:\n",
    "    coord_dict[coord].append(myDict[coord])"
   ]
  },
  {
   "cell_type": "code",
   "execution_count": 66,
   "metadata": {},
   "outputs": [
    {
     "data": {
      "text/plain": [
       "{'us': [44.51131, -84.73359, 20, 20],\n",
       " 'in': [12.97912, 77.5913, 1, 1],\n",
       " 'nl': [52.371009, 4.900112, 1, 1],\n",
       " 'au': [-26.57486, 152.8657, 1, 1],\n",
       " 'gb': [53.037718, -1.204647, 2, 2],\n",
       " 'ca': [52.370967, -126.750674, 1, 1],\n",
       " 'ru': [55.079018, 98.8508, 1, 1],\n",
       " 'es': [42.61946, -7.863112, 1, 1]}"
      ]
     },
     "execution_count": 66,
     "metadata": {},
     "output_type": "execute_result"
    }
   ],
   "source": [
    "coord_dict"
   ]
  },
  {
   "cell_type": "code",
   "execution_count": 67,
   "metadata": {},
   "outputs": [],
   "source": [
    "x = {'us': [44.51131, -84.73359, 20, 20],\n",
    " 'in': [12.97912, 77.5913, 1, 1],\n",
    " 'nl': [52.371009, 4.900112, 1, 1],\n",
    " 'au': [-26.57486, 152.8657, 1, 1],\n",
    " 'gb': [53.037718, -1.204647, 2, 2],\n",
    " 'ca': [52.370967, -126.750674, 1, 1],\n",
    " 'ru': [55.079018, 98.8508, 1, 1],\n",
    " 'es': [42.61946, -7.863112, 1, 1]}"
   ]
  },
  {
   "cell_type": "code",
   "execution_count": 69,
   "metadata": {},
   "outputs": [
    {
     "data": {
      "text/plain": [
       "{'us': [[], []],\n",
       " 'in': [[], []],\n",
       " 'nl': [[], []],\n",
       " 'au': [[], []],\n",
       " 'gb': [[], []],\n",
       " 'ca': [[], []],\n",
       " 'ru': [[], []],\n",
       " 'es': [[], []]}"
      ]
     },
     "execution_count": 69,
     "metadata": {},
     "output_type": "execute_result"
    }
   ],
   "source": [
    "for key in x:\n",
    "    x[key] = [[],[]]\n",
    "    \n",
    "x    "
   ]
  },
  {
   "cell_type": "code",
   "execution_count": 71,
   "metadata": {},
   "outputs": [
    {
     "data": {
      "text/plain": [
       "{'us': [[0.6000000000000001,\n",
       "   0.375,\n",
       "   0.171875,\n",
       "   0.5818181818181818,\n",
       "   0.16666666666666666,\n",
       "   0.4,\n",
       "   0.3,\n",
       "   0.6000000000000001,\n",
       "   0.375,\n",
       "   0.171875,\n",
       "   0.5818181818181818,\n",
       "   0.16666666666666666,\n",
       "   0.4,\n",
       "   0.3],\n",
       "  [0.0,\n",
       "   0.0,\n",
       "   0.0,\n",
       "   0.0,\n",
       "   -0.012500000000000011,\n",
       "   -0.6999999999999998,\n",
       "   0.0,\n",
       "   0.0,\n",
       "   -0.03333333333333333,\n",
       "   -0.6,\n",
       "   0.0,\n",
       "   0.0,\n",
       "   0.0,\n",
       "   0.0,\n",
       "   0.0,\n",
       "   0.0,\n",
       "   0.0,\n",
       "   -0.012500000000000011,\n",
       "   -0.6999999999999998,\n",
       "   0.0,\n",
       "   0.0,\n",
       "   -0.03333333333333333,\n",
       "   -0.6,\n",
       "   0.0,\n",
       "   0.0,\n",
       "   0.0]],\n",
       " 'in': [[], [-0.16666666666666666, -0.16666666666666666]],\n",
       " 'nl': [[], [0.0, 0.0]],\n",
       " 'au': [[], [0.0, 0.0]],\n",
       " 'gb': [[], [-0.2, 0.0, -0.2, 0.0]],\n",
       " 'ca': [[], [0.0, 0.0]],\n",
       " 'ru': [[], [-0.16666666666666666, -0.16666666666666666]],\n",
       " 'es': [[], [0.0, 0.0]]}"
      ]
     },
     "execution_count": 71,
     "metadata": {},
     "output_type": "execute_result"
    }
   ],
   "source": [
    "#Generating the positive and negative comments of countries\n",
    "for key in x:\n",
    "    for tweet in tweets:\n",
    "        if key == tweet[\"location\"]:\n",
    "            if tweet[\"sentiment\"]>0:\n",
    "                x[key][0].append(tweet[\"sentiment\"])\n",
    "            else:\n",
    "                x[key][1].append(tweet[\"sentiment\"])\n",
    "x"
   ]
  },
  {
   "cell_type": "code",
   "execution_count": 27,
   "metadata": {},
   "outputs": [],
   "source": [
    "x= [tweet[\"sentiment\"] for tweet in tweets]\n",
    "y = [tweet[\"subjectivity\"] for tweet in tweets]\n",
    "\n",
    "pos_x = []\n",
    "pos_y = []\n",
    "neg_x = []\n",
    "neg_y=  []\n",
    "\n",
    "for tweet in tweets:\n",
    "    if tweet[\"sentiment\"]>0:\n",
    "        pos_x.append(tweet[\"sentiment\"])\n",
    "        pos_y.append(tweet[\"subjectivity\"])\n",
    "        \n",
    "for tweet in tweets:\n",
    "    if tweet[\"sentiment\"]<0:\n",
    "        neg_x.append(tweet[\"sentiment\"])\n",
    "        neg_y.append(tweet[\"subjectivity\"])"
   ]
  },
  {
   "cell_type": "code",
   "execution_count": 49,
   "metadata": {
    "scrolled": true
   },
   "outputs": [
    {
     "data": {
      "text/plain": [
       "(46, 11)"
      ]
     },
     "execution_count": 49,
     "metadata": {},
     "output_type": "execute_result"
    }
   ],
   "source": [
    "len(tweets),len(pos_x)"
   ]
  },
  {
   "cell_type": "code",
   "execution_count": 37,
   "metadata": {},
   "outputs": [
    {
     "data": {
      "text/plain": [
       "Text(0, 0.5, 'Polarity of the tweet')"
      ]
     },
     "execution_count": 37,
     "metadata": {},
     "output_type": "execute_result"
    },
    {
     "data": {
      "image/png": "[encoded data removed]",
      "text/plain": [
       "<Figure size 792x288 with 1 Axes>"
      ]
     },
     "metadata": {},
     "output_type": "display_data"
    }
   ],
   "source": [
    "#########################################Plots################################3\n",
    "#------------------------------LinePlot\n",
    "fig, ax = plt.subplots(facecolor='#000000')\n",
    "ax.grid(b=False)\n",
    "plt.plot(x, color='#FF8C00')\n",
    "plt.rcParams['axes.facecolor'] = \"#000000\"\n",
    "plt.rcParams['lines.linewidth'] = 2\n",
    "plt.rcParams[\"figure.figsize\"] = [11,4]\n",
    "ax.tick_params(axis='x', colors='#4666FF')\n",
    "ax.tick_params(axis='y', colors='yellow')\n",
    "ax.set_xlabel(\"Number of Tweets\",color = 'white')\n",
    "ax.set_ylabel(\"Polarity of the tweet\",color = 'white')\n",
    "\n",
    "\n",
    "# Be sure to specify facecolor or it won't look right in Illustrator\n",
    "#fig.savefig(\"output.pdf\", facecolor=fig.get_facecolor(), transparent=True)"
   ]
  },
  {
   "cell_type": "code",
   "execution_count": 40,
   "metadata": {},
   "outputs": [
    {
     "data": {
      "text/plain": [
       "<matplotlib.axes._subplots.AxesSubplot at 0x1bccaeb6c88>"
      ]
     },
     "execution_count": 40,
     "metadata": {},
     "output_type": "execute_result"
    },
    {
     "data": {
      "image/png": "[encoded data removed]",
      "text/plain": [
       "<Figure size 792x288 with 2 Axes>"
      ]
     },
     "metadata": {
      "needs_background": "light"
     },
     "output_type": "display_data"
    }
   ],
   "source": [
    "#----------------------------HeatPlot\n",
    "sns.heatmap([x,y])  "
   ]
  },
  {
   "cell_type": "code",
   "execution_count": 14,
   "metadata": {},
   "outputs": [
    {
     "data": {
      "text/plain": [
       "Text(0, 0.5, 'Polarity of the tweet')"
      ]
     },
     "execution_count": 14,
     "metadata": {},
     "output_type": "execute_result"
    },
    {
     "data": {
      "image/png": "[encoded data removed]",
      "text/plain": [
       "<Figure size 792x288 with 1 Axes>"
      ]
     },
     "metadata": {},
     "output_type": "display_data"
    }
   ],
   "source": [
    "##POSTIVE AND NEGATIVE DIFFERENT COLORS PLX\n",
    "fig, ax = plt.subplots(facecolor='#000000')\n",
    "ax.grid(b=False)\n",
    "plt.scatter(pos_y,pos_x, color='yellow')\n",
    "plt.scatter(neg_y,neg_x, color = \"red\")\n",
    "#plt.scatter(x,y)\n",
    "plt.rcParams['axes.facecolor'] = \"#000000\"\n",
    "plt.rcParams['lines.linewidth'] = 2\n",
    "plt.rcParams[\"figure.figsize\"] = [11,4]\n",
    "ax.tick_params(axis='x', colors='white')\n",
    "ax.tick_params(axis='y', colors='white')\n",
    "ax.set_xlabel(\"Number of Tweets\",color = 'white')\n",
    "ax.set_ylabel(\"Polarity of the tweet\",color = 'white')\n"
   ]
  },
  {
   "cell_type": "code",
   "execution_count": 34,
   "metadata": {},
   "outputs": [
    {
     "data": {
      "text/plain": [
       "Text(0, 0.5, 'Polarity of the tweet')"
      ]
     },
     "execution_count": 34,
     "metadata": {},
     "output_type": "execute_result"
    },
    {
     "data": {
      "image/png": "[encoded data removed]",
      "text/plain": [
       "<Figure size 1584x288 with 1 Axes>"
      ]
     },
     "metadata": {},
     "output_type": "display_data"
    }
   ],
   "source": [
    "fig, ax = plt.subplots(facecolor='#000000')\n",
    "plt.plot(pos_x, color='#FF8C00')\n",
    "plt.rcParams['axes.facecolor'] = \"#000000\"\n",
    "plt.rcParams['lines.linewidth'] = 2\n",
    "plt.rcParams[\"figure.figsize\"] = [22,4]\n",
    "#plt.xticks([i*100 for i in range(30)])\n",
    "ax.tick_params(axis='x', colors='#4666FF')\n",
    "ax.tick_params(axis='y', colors='yellow')\n",
    "ax.set_xlabel(\"Number of Tweets\",color = 'white')\n",
    "ax.set_ylabel(\"Polarity of the tweet\",color = 'white')"
   ]
  },
  {
   "cell_type": "code",
   "execution_count": 41,
   "metadata": {},
   "outputs": [
    {
     "name": "stdout",
     "output_type": "stream",
     "text": [
      "us [44.51131, -84.73359, 20]\n",
      "in [12.97912, 77.5913, 1]\n",
      "nl [52.371009, 4.900112, 1]\n",
      "au [-26.57486, 152.8657, 1]\n",
      "gb [53.037718, -1.204647, 2]\n",
      "ca [52.370967, -126.750674, 1]\n",
      "ru [55.079018, 98.8508, 1]\n",
      "es [42.61946, -7.863112, 1]\n"
     ]
    }
   ],
   "source": [
    "for key, value in coord_dict.items():\n",
    "    print(key , value)"
   ]
  },
  {
   "cell_type": "code",
   "execution_count": 18,
   "metadata": {},
   "outputs": [],
   "source": [
    "def ncolors(n):\n",
    "    r = lambda: random.randint(0,255)\n",
    "    return [('#%02X%02X%02X' % (r(),r(),r())) for _ in range(n)]"
   ]
  },
  {
   "cell_type": "code",
   "execution_count": 56,
   "metadata": {},
   "outputs": [
    {
     "data": {
      "text/html": [
       "<div style=\"width:100%;\"><div style=\"position:relative;width:100%;height:0;padding-bottom:60%;\"><iframe src=\"data:text/html;charset=utf-8;base64,PCFET0NUWVBFIGh0bWw+CjxoZWFkPiAgICAKICAgIDxtZXRhIGh0dHAtZXF1aXY9ImNvbnRlbnQtdHlwZSIgY29udGVudD0idGV4dC9odG1sOyBjaGFyc2V0PVVURi04IiAvPgogICAgPHNjcmlwdD5MX1BSRUZFUl9DQU5WQVM9ZmFsc2U7IExfTk9fVE9VQ0g9ZmFsc2U7IExfRElTQUJMRV8zRD1mYWxzZTs8L3NjcmlwdD4KICAgIDxzY3JpcHQgc3JjPSJodHRwczovL2Nkbi5qc2RlbGl2ci5uZXQvbnBtL2xlYWZsZXRAMS4zLjQvZGlzdC9sZWFmbGV0LmpzIj48L3NjcmlwdD4KICAgIDxzY3JpcHQgc3JjPSJodHRwczovL2FqYXguZ29vZ2xlYXBpcy5jb20vYWpheC9saWJzL2pxdWVyeS8xLjExLjEvanF1ZXJ5Lm1pbi5qcyI+PC9zY3JpcHQ+CiAgICA8c2NyaXB0IHNyYz0iaHR0cHM6Ly9tYXhjZG4uYm9vdHN0cmFwY2RuLmNvbS9ib290c3RyYXAvMy4yLjAvanMvYm9vdHN0cmFwLm1pbi5qcyI+PC9zY3JpcHQ+CiAgICA8c2NyaXB0IHNyYz0iaHR0cHM6Ly9jZG5qcy5jbG91ZGZsYXJlLmNvbS9hamF4L2xpYnMvTGVhZmxldC5hd2Vzb21lLW1hcmtlcnMvMi4wLjIvbGVhZmxldC5hd2Vzb21lLW1hcmtlcnMuanMiPjwvc2NyaXB0PgogICAgPGxpbmsgcmVsPSJzdHlsZXNoZWV0IiBocmVmPSJodHRwczovL2Nkbi5qc2RlbGl2ci5uZXQvbnBtL2xlYWZsZXRAMS4zLjQvZGlzdC9sZWFmbGV0LmNzcyIvPgogICAgPGxpbmsgcmVsPSJzdHlsZXNoZWV0IiBocmVmPSJodHRwczovL21heGNkbi5ib290c3RyYXBjZG4uY29tL2Jvb3RzdHJhcC8zLjIuMC9jc3MvYm9vdHN0cmFwLm1pbi5jc3MiLz4KICAgIDxsaW5rIHJlbD0ic3R5bGVzaGVldCIgaHJlZj0iaHR0cHM6Ly9tYXhjZG4uYm9vdHN0cmFwY2RuLmNvbS9ib290c3RyYXAvMy4yLjAvY3NzL2Jvb3RzdHJhcC10aGVtZS5taW4uY3NzIi8+CiAgICA8bGluayByZWw9InN0eWxlc2hlZXQiIGhyZWY9Imh0dHBzOi8vbWF4Y2RuLmJvb3RzdHJhcGNkbi5jb20vZm9udC1hd2Vzb21lLzQuNi4zL2Nzcy9mb250LWF3ZXNvbWUubWluLmNzcyIvPgogICAgPGxpbmsgcmVsPSJzdHlsZXNoZWV0IiBocmVmPSJodHRwczovL2NkbmpzLmNsb3VkZmxhcmUuY29tL2FqYXgvbGlicy9MZWFmbGV0LmF3ZXNvbWUtbWFya2Vycy8yLjAuMi9sZWFmbGV0LmF3ZXNvbWUtbWFya2Vycy5jc3MiLz4KICAgIDxsaW5rIHJlbD0ic3R5bGVzaGVldCIgaHJlZj0iaHR0cHM6Ly9yYXdjZG4uZ2l0aGFjay5jb20vcHl0aG9uLXZpc3VhbGl6YXRpb24vZm9saXVtL21hc3Rlci9mb2xpdW0vdGVtcGxhdGVzL2xlYWZsZXQuYXdlc29tZS5yb3RhdGUuY3NzIi8+CiAgICA8c3R5bGU+aHRtbCwgYm9keSB7d2lkdGg6IDEwMCU7aGVpZ2h0OiAxMDAlO21hcmdpbjogMDtwYWRkaW5nOiAwO308L3N0eWxlPgogICAgPHN0eWxlPiNtYXAge3Bvc2l0aW9uOmFic29sdXRlO3RvcDowO2JvdHRvbTowO3JpZ2h0OjA7bGVmdDowO308L3N0eWxlPgogICAgCiAgICA8bWV0YSBuYW1lPSJ2aWV3cG9ydCIgY29udGVudD0id2lkdGg9ZGV2aWNlLXdpZHRoLAogICAgICAgIGluaXRpYWwtc2NhbGU9MS4wLCBtYXhpbXVtLXNjYWxlPTEuMCwgdXNlci1zY2FsYWJsZT1ubyIgLz4KICAgIDxzdHlsZT4jbWFwXzg2YzkwNTYwOWI1NDRhMjk4ZTQ4ZDc3Mjg0ZDE3NjBhIHsKICAgICAgICBwb3NpdGlvbjogcmVsYXRpdmU7CiAgICAgICAgd2lkdGg6IDEwMC4wJTsKICAgICAgICBoZWlnaHQ6IDEwMC4wJTsKICAgICAgICBsZWZ0OiAwLjAlOwogICAgICAgIHRvcDogMC4wJTsKICAgICAgICB9CiAgICA8L3N0eWxlPgogICAgPHNjcmlwdCBzcmM9Imh0dHBzOi8vY2RuanMuY2xvdWRmbGFyZS5jb20vYWpheC9saWJzL2xlYWZsZXQtZHZmLzAuMy4wL2xlYWZsZXQtZHZmLm1hcmtlcnMubWluLmpzIj48L3NjcmlwdD4KPC9oZWFkPgo8Ym9keT4gICAgCiAgICAKICAgIDxkaXYgY2xhc3M9ImZvbGl1bS1tYXAiIGlkPSJtYXBfODZjOTA1NjA5YjU0NGEyOThlNDhkNzcyODRkMTc2MGEiID48L2Rpdj4KICAgIAoKPCFkb2N0eXBlIGh0bWw+CjxodG1sIGxhbmc9ImVuIj4KPGhlYWQ+CiAgPG1ldGEgY2hhcnNldD0idXRmLTgiPgogIDxtZXRhIG5hbWU9InZpZXdwb3J0IiBjb250ZW50PSJ3aWR0aD1kZXZpY2Utd2lkdGgsIGluaXRpYWwtc2NhbGU9MSI+CiAgPHRpdGxlPmpRdWVyeSBVSSBEcmFnZ2FibGUgLSBEZWZhdWx0IGZ1bmN0aW9uYWxpdHk8L3RpdGxlPgogIDxsaW5rIHJlbD0ic3R5bGVzaGVldCIgaHJlZj0iLy9jb2RlLmpxdWVyeS5jb20vdWkvMS4xMi4xL3RoZW1lcy9iYXNlL2pxdWVyeS11aS5jc3MiPgoKICA8c2NyaXB0IHNyYz0iaHR0cHM6Ly9jb2RlLmpxdWVyeS5jb20vanF1ZXJ5LTEuMTIuNC5qcyI+PC9zY3JpcHQ+CiAgPHNjcmlwdCBzcmM9Imh0dHBzOi8vY29kZS5qcXVlcnkuY29tL3VpLzEuMTIuMS9qcXVlcnktdWkuanMiPjwvc2NyaXB0PgogIAogIDxzY3JpcHQ+CiAgJCggZnVuY3Rpb24oKSB7CiAgICAkKCAiI21hcGxlZ2VuZCIgKS5kcmFnZ2FibGUoewogICAgICAgICAgICAgICAgICAgIHN0YXJ0OiBmdW5jdGlvbiAoZXZlbnQsIHVpKSB7CiAgICAgICAgICAgICAgICAgICAgICAgICQodGhpcykuY3NzKHsKICAgICAgICAgICAgICAgICAgICAgICAgICAgIHJpZ2h0OiAiYXV0byIsCiAgICAgICAgICAgICAgICAgICAgICAgICAgICB0b3A6ICJhdXRvIiwKICAgICAgICAgICAgICAgICAgICAgICAgICAgIGJvdHRvbTogImF1dG8iCiAgICAgICAgICAgICAgICAgICAgICAgIH0pOwogICAgICAgICAgICAgICAgICAgIH0KICAgICAgICAgICAgICAgIH0pOwp9KTsKCiAgPC9zY3JpcHQ+CjwvaGVhZD4KPGJvZHk+CgogCjxkaXYgaWQ9J21hcGxlZ2VuZCcgY2xhc3M9J21hcGxlZ2VuZCcgCiAgICBzdHlsZT0ncG9zaXRpb246IGFic29sdXRlOyB6LWluZGV4Ojk5OTk7IGJvcmRlcjoycHggc29saWQgZ3JleTsgYmFja2dyb3VuZC1jb2xvcjpyZ2JhKDI1NSwgMjU1LCAyNTUsIDAuOCk7CiAgICAgYm9yZGVyLXJhZGl1czo2cHg7IHBhZGRpbmc6IDEwcHg7IGZvbnQtc2l6ZToxNHB4OyByaWdodDogMjBweDsgYm90dG9tOiAyMHB4Oyc+CiAgICAgCjxkaXYgY2xhc3M9J2xlZ2VuZC10aXRsZSc+TGVnZW5kIChkcmFnZ2FibGUhKTwvZGl2Pgo8ZGl2IGNsYXNzPSdsZWdlbmQtc2NhbGUnPgogIDx1bCBjbGFzcz0nbGVnZW5kLWxhYmVscyc+CiAgICA8bGk+PHNwYW4gc3R5bGU9J2JhY2tncm91bmQ6cmVkO29wYWNpdHk6MC43Oyc+PC9zcGFuPkJpZzwvbGk+CiAgICA8bGk+PHNwYW4gc3R5bGU9J2JhY2tncm91bmQ6b3JhbmdlO29wYWNpdHk6MC43Oyc+PC9zcGFuPk1lZGl1bTwvbGk+CiAgICA8bGk+PHNwYW4gc3R5bGU9J2JhY2tncm91bmQ6Z3JlZW47b3BhY2l0eTowLjc7Jz48L3NwYW4+U21hbGw8L2xpPgoKICA8L3VsPgo8L2Rpdj4KPC9kaXY+CiAKPC9ib2R5Pgo8L2h0bWw+Cgo8c3R5bGUgdHlwZT0ndGV4dC9jc3MnPgogIC5tYXBsZWdlbmQgLmxlZ2VuZC10aXRsZSB7CiAgICB0ZXh0LWFsaWduOiBsZWZ0OwogICAgbWFyZ2luLWJvdHRvbTogNXB4OwogICAgZm9udC13ZWlnaHQ6IGJvbGQ7CiAgICBmb250LXNpemU6IDkwJTsKICAgIH0KICAubWFwbGVnZW5kIC5sZWdlbmQtc2NhbGUgdWwgewogICAgbWFyZ2luOiAwOwogICAgbWFyZ2luLWJvdHRvbTogNXB4OwogICAgcGFkZGluZzogMDsKICAgIGZsb2F0OiBsZWZ0OwogICAgbGlzdC1zdHlsZTogbm9uZTsKICAgIH0KICAubWFwbGVnZW5kIC5sZWdlbmQtc2NhbGUgdWwgbGkgewogICAgZm9udC1zaXplOiA4MCU7CiAgICBsaXN0LXN0eWxlOiBub25lOwogICAgbWFyZ2luLWxlZnQ6IDA7CiAgICBsaW5lLWhlaWdodDogMThweDsKICAgIG1hcmdpbi1ib3R0b206IDJweDsKICAgIH0KICAubWFwbGVnZW5kIHVsLmxlZ2VuZC1sYWJlbHMgbGkgc3BhbiB7CiAgICBkaXNwbGF5OiBibG9jazsKICAgIGZsb2F0OiBsZWZ0OwogICAgaGVpZ2h0OiAxNnB4OwogICAgd2lkdGg6IDMwcHg7CiAgICBtYXJnaW4tcmlnaHQ6IDVweDsKICAgIG1hcmdpbi1sZWZ0OiAwOwogICAgYm9yZGVyOiAxcHggc29saWQgIzk5OTsKICAgIH0KICAubWFwbGVnZW5kIC5sZWdlbmQtc291cmNlIHsKICAgIGZvbnQtc2l6ZTogODAlOwogICAgY29sb3I6ICM3Nzc7CiAgICBjbGVhcjogYm90aDsKICAgIH0KICAubWFwbGVnZW5kIGEgewogICAgY29sb3I6ICM3Nzc7CiAgICB9Cjwvc3R5bGU+CjwvYm9keT4KPHNjcmlwdD4gICAgCiAgICAKICAgIAogICAgICAgIHZhciBib3VuZHMgPSBudWxsOwogICAgCgogICAgdmFyIG1hcF84NmM5MDU2MDliNTQ0YTI5OGU0OGQ3NzI4NGQxNzYwYSA9IEwubWFwKAogICAgICAgICdtYXBfODZjOTA1NjA5YjU0NGEyOThlNDhkNzcyODRkMTc2MGEnLCB7CiAgICAgICAgY2VudGVyOiBbNDIuNjE5NDYsIC03Ljg2MzExMl0sCiAgICAgICAgem9vbTogMSwKICAgICAgICBtYXhCb3VuZHM6IGJvdW5kcywKICAgICAgICBsYXllcnM6IFtdLAogICAgICAgIHdvcmxkQ29weUp1bXA6IGZhbHNlLAogICAgICAgIGNyczogTC5DUlMuRVBTRzM4NTcsCiAgICAgICAgem9vbUNvbnRyb2w6IHRydWUsCiAgICAgICAgfSk7CgogICAgCiAgICAKICAgIHZhciB0aWxlX2xheWVyXzAxMTdkMWM0ZWI5NzQ5YzVhMDJjZDhjMWM2YzZmMTI4ID0gTC50aWxlTGF5ZXIoCiAgICAgICAgJ2h0dHBzOi8ve3N9LnRpbGUub3BlbnN0cmVldG1hcC5vcmcve3p9L3t4fS97eX0ucG5nJywKICAgICAgICB7CiAgICAgICAgImF0dHJpYnV0aW9uIjogbnVsbCwKICAgICAgICAiZGV0ZWN0UmV0aW5hIjogZmFsc2UsCiAgICAgICAgIm1heE5hdGl2ZVpvb20iOiAxOCwKICAgICAgICAibWF4Wm9vbSI6IDE4LAogICAgICAgICJtaW5ab29tIjogMCwKICAgICAgICAibm9XcmFwIjogZmFsc2UsCiAgICAgICAgIm9wYWNpdHkiOiAxLAogICAgICAgICJzdWJkb21haW5zIjogImFiYyIsCiAgICAgICAgInRtcyI6IGZhbHNlCn0pLmFkZFRvKG1hcF84NmM5MDU2MDliNTQ0YTI5OGU0OGQ3NzI4NGQxNzYwYSk7CiAgICAKICAgICAgICAgICAgdmFyIHJlZ3VsYXJfcG9seWdvbl9tYXJrZXJfMmYzZjIzYzU5ZGU1NDRhOWEwYjU5NWQ5ODg0OWE1MDIgPSBuZXcgTC5SZWd1bGFyUG9seWdvbk1hcmtlcigKICAgICAgICAgICAgICAgIG5ldyBMLkxhdExuZyg0NC41MTEzMSwtODQuNzMzNTkpLAogICAgICAgICAgICAgICAgewogICAgICAgICAgICAgICAgICAgIGljb24gOiBuZXcgTC5JY29uLkRlZmF1bHQoKSwKICAgICAgICAgICAgICAgICAgICBjb2xvcjogJ2JsYWNrJywKICAgICAgICAgICAgICAgICAgICBvcGFjaXR5OiAxLAogICAgICAgICAgICAgICAgICAgIHdlaWdodDogMiwKICAgICAgICAgICAgICAgICAgICBmaWxsQ29sb3I6ICcjMzJDNzY5JywKICAgICAgICAgICAgICAgICAgICBmaWxsT3BhY2l0eTogMSwKICAgICAgICAgICAgICAgICAgICBudW1iZXJPZlNpZGVzOiAxMCwKICAgICAgICAgICAgICAgICAgICByb3RhdGlvbjogMCwKICAgICAgICAgICAgICAgICAgICByYWRpdXM6IDgKICAgICAgICAgICAgICAgICAgICB9CiAgICAgICAgICAgICAgICApLmFkZFRvKG1hcF84NmM5MDU2MDliNTQ0YTI5OGU0OGQ3NzI4NGQxNzYwYSk7CiAgICAgICAgICAgIAogICAgCiAgICAgICAgICAgIHZhciBwb3B1cF8wODljNjczYTJiMzg0N2UwYWUwODNjZmVmM2M1NmE5OCA9IEwucG9wdXAoe21heFdpZHRoOiAnMzAwJwogICAgICAgICAgICAKICAgICAgICAgICAgfSk7CgogICAgICAgICAgICAKICAgICAgICAgICAgICAgIHZhciBodG1sX2VmZjJmMzJiNDg3MzRhYjc4YWQ3NGQxYmQ5N2Y5OTkxID0gJChgPGRpdiBpZD0iaHRtbF9lZmYyZjMyYjQ4NzM0YWI3OGFkNzRkMWJkOTdmOTk5MSIgc3R5bGU9IndpZHRoOiAxMDAuMCU7IGhlaWdodDogMTAwLjAlOyI+dXM6IDIwIHR3ZWV0czwvZGl2PmApWzBdOwogICAgICAgICAgICAgICAgcG9wdXBfMDg5YzY3M2EyYjM4NDdlMGFlMDgzY2ZlZjNjNTZhOTguc2V0Q29udGVudChodG1sX2VmZjJmMzJiNDg3MzRhYjc4YWQ3NGQxYmQ5N2Y5OTkxKTsKICAgICAgICAgICAgCgogICAgICAgICAgICByZWd1bGFyX3BvbHlnb25fbWFya2VyXzJmM2YyM2M1OWRlNTQ0YTlhMGI1OTVkOTg4NDlhNTAyLmJpbmRQb3B1cChwb3B1cF8wODljNjczYTJiMzg0N2UwYWUwODNjZmVmM2M1NmE5OCkKICAgICAgICAgICAgOwoKICAgICAgICAgICAgCiAgICAgICAgCiAgICAKICAgICAgICAgICAgdmFyIHJlZ3VsYXJfcG9seWdvbl9tYXJrZXJfYjZkZmU4MDdiZWMyNDFlZWFhNjZmNDQ2N2Y5ZDZhZTUgPSBuZXcgTC5SZWd1bGFyUG9seWdvbk1hcmtlcigKICAgICAgICAgICAgICAgIG5ldyBMLkxhdExuZygxMi45NzkxMiw3Ny41OTEzKSwKICAgICAgICAgICAgICAgIHsKICAgICAgICAgICAgICAgICAgICBpY29uIDogbmV3IEwuSWNvbi5EZWZhdWx0KCksCiAgICAgICAgICAgICAgICAgICAgY29sb3I6ICdibGFjaycsCiAgICAgICAgICAgICAgICAgICAgb3BhY2l0eTogMSwKICAgICAgICAgICAgICAgICAgICB3ZWlnaHQ6IDIsCiAgICAgICAgICAgICAgICAgICAgZmlsbENvbG9yOiAnI0M5QjFENycsCiAgICAgICAgICAgICAgICAgICAgZmlsbE9wYWNpdHk6IDEsCiAgICAgICAgICAgICAgICAgICAgbnVtYmVyT2ZTaWRlczogMTAsCiAgICAgICAgICAgICAgICAgICAgcm90YXRpb246IDAsCiAgICAgICAgICAgICAgICAgICAgcmFkaXVzOiA4CiAgICAgICAgICAgICAgICAgICAgfQogICAgICAgICAgICAgICAgKS5hZGRUbyhtYXBfODZjOTA1NjA5YjU0NGEyOThlNDhkNzcyODRkMTc2MGEpOwogICAgICAgICAgICAKICAgIAogICAgICAgICAgICB2YXIgcG9wdXBfNDE3NDUwNjAyNjkyNDA1ZDlmY2JlMDlmODhmZDg2ZjcgPSBMLnBvcHVwKHttYXhXaWR0aDogJzMwMCcKICAgICAgICAgICAgCiAgICAgICAgICAgIH0pOwoKICAgICAgICAgICAgCiAgICAgICAgICAgICAgICB2YXIgaHRtbF84N2Y2YzhmNTU3NzM0ZmFiOTA3NDM2NTg1NDM1ZTIwMCA9ICQoYDxkaXYgaWQ9Imh0bWxfODdmNmM4ZjU1NzczNGZhYjkwNzQzNjU4NTQzNWUyMDAiIHN0eWxlPSJ3aWR0aDogMTAwLjAlOyBoZWlnaHQ6IDEwMC4wJTsiPmluOiAxIHR3ZWV0czwvZGl2PmApWzBdOwogICAgICAgICAgICAgICAgcG9wdXBfNDE3NDUwNjAyNjkyNDA1ZDlmY2JlMDlmODhmZDg2Zjcuc2V0Q29udGVudChodG1sXzg3ZjZjOGY1NTc3MzRmYWI5MDc0MzY1ODU0MzVlMjAwKTsKICAgICAgICAgICAgCgogICAgICAgICAgICByZWd1bGFyX3BvbHlnb25fbWFya2VyX2I2ZGZlODA3YmVjMjQxZWVhYTY2ZjQ0NjdmOWQ2YWU1LmJpbmRQb3B1cChwb3B1cF80MTc0NTA2MDI2OTI0MDVkOWZjYmUwOWY4OGZkODZmNykKICAgICAgICAgICAgOwoKICAgICAgICAgICAgCiAgICAgICAgCiAgICAKICAgICAgICAgICAgdmFyIHJlZ3VsYXJfcG9seWdvbl9tYXJrZXJfNGMyMjNhYzc2M2RkNDRjNmJiNTgzODAwZWRmNzEyYzAgPSBuZXcgTC5SZWd1bGFyUG9seWdvbk1hcmtlcigKICAgICAgICAgICAgICAgIG5ldyBMLkxhdExuZyg1Mi4zNzEwMDksNC45MDAxMTIpLAogICAgICAgICAgICAgICAgewogICAgICAgICAgICAgICAgICAgIGljb24gOiBuZXcgTC5JY29uLkRlZmF1bHQoKSwKICAgICAgICAgICAgICAgICAgICBjb2xvcjogJ2JsYWNrJywKICAgICAgICAgICAgICAgICAgICBvcGFjaXR5OiAxLAogICAgICAgICAgICAgICAgICAgIHdlaWdodDogMiwKICAgICAgICAgICAgICAgICAgICBmaWxsQ29sb3I6ICcjQURGNjEyJywKICAgICAgICAgICAgICAgICAgICBmaWxsT3BhY2l0eTogMSwKICAgICAgICAgICAgICAgICAgICBudW1iZXJPZlNpZGVzOiAxMCwKICAgICAgICAgICAgICAgICAgICByb3RhdGlvbjogMCwKICAgICAgICAgICAgICAgICAgICByYWRpdXM6IDgKICAgICAgICAgICAgICAgICAgICB9CiAgICAgICAgICAgICAgICApLmFkZFRvKG1hcF84NmM5MDU2MDliNTQ0YTI5OGU0OGQ3NzI4NGQxNzYwYSk7CiAgICAgICAgICAgIAogICAgCiAgICAgICAgICAgIHZhciBwb3B1cF80Y2RiMWNmNmQ0N2Y0YzM3OGFlOTkyZTcyMDkzNWEzNiA9IEwucG9wdXAoe21heFdpZHRoOiAnMzAwJwogICAgICAgICAgICAKICAgICAgICAgICAgfSk7CgogICAgICAgICAgICAKICAgICAgICAgICAgICAgIHZhciBodG1sX2I5ZDRhOWNhM2NhYjQ2YTdiNWI4MzdmMTk3MjczMTg0ID0gJChgPGRpdiBpZD0iaHRtbF9iOWQ0YTljYTNjYWI0NmE3YjViODM3ZjE5NzI3MzE4NCIgc3R5bGU9IndpZHRoOiAxMDAuMCU7IGhlaWdodDogMTAwLjAlOyI+bmw6IDEgdHdlZXRzPC9kaXY+YClbMF07CiAgICAgICAgICAgICAgICBwb3B1cF80Y2RiMWNmNmQ0N2Y0YzM3OGFlOTkyZTcyMDkzNWEzNi5zZXRDb250ZW50KGh0bWxfYjlkNGE5Y2EzY2FiNDZhN2I1YjgzN2YxOTcyNzMxODQpOwogICAgICAgICAgICAKCiAgICAgICAgICAgIHJlZ3VsYXJfcG9seWdvbl9tYXJrZXJfNGMyMjNhYzc2M2RkNDRjNmJiNTgzODAwZWRmNzEyYzAuYmluZFBvcHVwKHBvcHVwXzRjZGIxY2Y2ZDQ3ZjRjMzc4YWU5OTJlNzIwOTM1YTM2KQogICAgICAgICAgICA7CgogICAgICAgICAgICAKICAgICAgICAKICAgIAogICAgICAgICAgICB2YXIgcmVndWxhcl9wb2x5Z29uX21hcmtlcl9iYmQ3MjExZDMwNzc0YjhhYWI3YWI3OGRmOGIyYzE5OCA9IG5ldyBMLlJlZ3VsYXJQb2x5Z29uTWFya2VyKAogICAgICAgICAgICAgICAgbmV3IEwuTGF0TG5nKC0yNi41NzQ4NiwxNTIuODY1NyksCiAgICAgICAgICAgICAgICB7CiAgICAgICAgICAgICAgICAgICAgaWNvbiA6IG5ldyBMLkljb24uRGVmYXVsdCgpLAogICAgICAgICAgICAgICAgICAgIGNvbG9yOiAnYmxhY2snLAogICAgICAgICAgICAgICAgICAgIG9wYWNpdHk6IDEsCiAgICAgICAgICAgICAgICAgICAgd2VpZ2h0OiAyLAogICAgICAgICAgICAgICAgICAgIGZpbGxDb2xvcjogJyNFMjA2ODYnLAogICAgICAgICAgICAgICAgICAgIGZpbGxPcGFjaXR5OiAxLAogICAgICAgICAgICAgICAgICAgIG51bWJlck9mU2lkZXM6IDEwLAogICAgICAgICAgICAgICAgICAgIHJvdGF0aW9uOiAwLAogICAgICAgICAgICAgICAgICAgIHJhZGl1czogOAogICAgICAgICAgICAgICAgICAgIH0KICAgICAgICAgICAgICAgICkuYWRkVG8obWFwXzg2YzkwNTYwOWI1NDRhMjk4ZTQ4ZDc3Mjg0ZDE3NjBhKTsKICAgICAgICAgICAgCiAgICAKICAgICAgICAgICAgdmFyIHBvcHVwXzFlOGY5ZjljNTZhZTQzMDlhZDZhNWQ0ODgyNDFlMDFjID0gTC5wb3B1cCh7bWF4V2lkdGg6ICczMDAnCiAgICAgICAgICAgIAogICAgICAgICAgICB9KTsKCiAgICAgICAgICAgIAogICAgICAgICAgICAgICAgdmFyIGh0bWxfYTE1MWFjYjAyNzYyNGZiMmFkNGZkOWMyZDhlOTNhMjggPSAkKGA8ZGl2IGlkPSJodG1sX2ExNTFhY2IwMjc2MjRmYjJhZDRmZDljMmQ4ZTkzYTI4IiBzdHlsZT0id2lkdGg6IDEwMC4wJTsgaGVpZ2h0OiAxMDAuMCU7Ij5hdTogMSB0d2VldHM8L2Rpdj5gKVswXTsKICAgICAgICAgICAgICAgIHBvcHVwXzFlOGY5ZjljNTZhZTQzMDlhZDZhNWQ0ODgyNDFlMDFjLnNldENvbnRlbnQoaHRtbF9hMTUxYWNiMDI3NjI0ZmIyYWQ0ZmQ5YzJkOGU5M2EyOCk7CiAgICAgICAgICAgIAoKICAgICAgICAgICAgcmVndWxhcl9wb2x5Z29uX21hcmtlcl9iYmQ3MjExZDMwNzc0YjhhYWI3YWI3OGRmOGIyYzE5OC5iaW5kUG9wdXAocG9wdXBfMWU4ZjlmOWM1NmFlNDMwOWFkNmE1ZDQ4ODI0MWUwMWMpCiAgICAgICAgICAgIDsKCiAgICAgICAgICAgIAogICAgICAgIAogICAgCiAgICAgICAgICAgIHZhciByZWd1bGFyX3BvbHlnb25fbWFya2VyXzRmOWViYjJmMDdhMzRiMjViYjAwZmVjYjg0YWE0OTBiID0gbmV3IEwuUmVndWxhclBvbHlnb25NYXJrZXIoCiAgICAgICAgICAgICAgICBuZXcgTC5MYXRMbmcoNTMuMDM3NzE4LC0xLjIwNDY0NyksCiAgICAgICAgICAgICAgICB7CiAgICAgICAgICAgICAgICAgICAgaWNvbiA6IG5ldyBMLkljb24uRGVmYXVsdCgpLAogICAgICAgICAgICAgICAgICAgIGNvbG9yOiAnYmxhY2snLAogICAgICAgICAgICAgICAgICAgIG9wYWNpdHk6IDEsCiAgICAgICAgICAgICAgICAgICAgd2VpZ2h0OiAyLAogICAgICAgICAgICAgICAgICAgIGZpbGxDb2xvcjogJyNERkM3MTcnLAogICAgICAgICAgICAgICAgICAgIGZpbGxPcGFjaXR5OiAxLAogICAgICAgICAgICAgICAgICAgIG51bWJlck9mU2lkZXM6IDEwLAogICAgICAgICAgICAgICAgICAgIHJvdGF0aW9uOiAwLAogICAgICAgICAgICAgICAgICAgIHJhZGl1czogOAogICAgICAgICAgICAgICAgICAgIH0KICAgICAgICAgICAgICAgICkuYWRkVG8obWFwXzg2YzkwNTYwOWI1NDRhMjk4ZTQ4ZDc3Mjg0ZDE3NjBhKTsKICAgICAgICAgICAgCiAgICAKICAgICAgICAgICAgdmFyIHBvcHVwXzgxZjA5OTEzZTU2MzQ5MmE5ZTQ1ODU5YTdjODk2MTlkID0gTC5wb3B1cCh7bWF4V2lkdGg6ICczMDAnCiAgICAgICAgICAgIAogICAgICAgICAgICB9KTsKCiAgICAgICAgICAgIAogICAgICAgICAgICAgICAgdmFyIGh0bWxfMWMxYjljYmRhMGQyNGY3ZGFmZDNjZDMwOThkMjk2YzYgPSAkKGA8ZGl2IGlkPSJodG1sXzFjMWI5Y2JkYTBkMjRmN2RhZmQzY2QzMDk4ZDI5NmM2IiBzdHlsZT0id2lkdGg6IDEwMC4wJTsgaGVpZ2h0OiAxMDAuMCU7Ij5nYjogMiB0d2VldHM8L2Rpdj5gKVswXTsKICAgICAgICAgICAgICAgIHBvcHVwXzgxZjA5OTEzZTU2MzQ5MmE5ZTQ1ODU5YTdjODk2MTlkLnNldENvbnRlbnQoaHRtbF8xYzFiOWNiZGEwZDI0ZjdkYWZkM2NkMzA5OGQyOTZjNik7CiAgICAgICAgICAgIAoKICAgICAgICAgICAgcmVndWxhcl9wb2x5Z29uX21hcmtlcl80ZjllYmIyZjA3YTM0YjI1YmIwMGZlY2I4NGFhNDkwYi5iaW5kUG9wdXAocG9wdXBfODFmMDk5MTNlNTYzNDkyYTllNDU4NTlhN2M4OTYxOWQpCiAgICAgICAgICAgIDsKCiAgICAgICAgICAgIAogICAgICAgIAogICAgCiAgICAgICAgICAgIHZhciByZWd1bGFyX3BvbHlnb25fbWFya2VyXzEyYjE4ZWFkNzQ0YzQ2OTFiOGUyNjk0NmI1MGUxN2NmID0gbmV3IEwuUmVndWxhclBvbHlnb25NYXJrZXIoCiAgICAgICAgICAgICAgICBuZXcgTC5MYXRMbmcoNTIuMzcwOTY3LC0xMjYuNzUwNjc0KSwKICAgICAgICAgICAgICAgIHsKICAgICAgICAgICAgICAgICAgICBpY29uIDogbmV3IEwuSWNvbi5EZWZhdWx0KCksCiAgICAgICAgICAgICAgICAgICAgY29sb3I6ICdibGFjaycsCiAgICAgICAgICAgICAgICAgICAgb3BhY2l0eTogMSwKICAgICAgICAgICAgICAgICAgICB3ZWlnaHQ6IDIsCiAgICAgICAgICAgICAgICAgICAgZmlsbENvbG9yOiAnIzQ3QTBDNScsCiAgICAgICAgICAgICAgICAgICAgZmlsbE9wYWNpdHk6IDEsCiAgICAgICAgICAgICAgICAgICAgbnVtYmVyT2ZTaWRlczogMTAsCiAgICAgICAgICAgICAgICAgICAgcm90YXRpb246IDAsCiAgICAgICAgICAgICAgICAgICAgcmFkaXVzOiA4CiAgICAgICAgICAgICAgICAgICAgfQogICAgICAgICAgICAgICAgKS5hZGRUbyhtYXBfODZjOTA1NjA5YjU0NGEyOThlNDhkNzcyODRkMTc2MGEpOwogICAgICAgICAgICAKICAgIAogICAgICAgICAgICB2YXIgcG9wdXBfOTg5NzBiMWRkMDUyNDhiZTg5Y2RmMGZlYWM3ZTI5MTIgPSBMLnBvcHVwKHttYXhXaWR0aDogJzMwMCcKICAgICAgICAgICAgCiAgICAgICAgICAgIH0pOwoKICAgICAgICAgICAgCiAgICAgICAgICAgICAgICB2YXIgaHRtbF80YWM5MjFmNDFjNDA0OTk5YTFkZGQzZmFkNTg0Yjk4YSA9ICQoYDxkaXYgaWQ9Imh0bWxfNGFjOTIxZjQxYzQwNDk5OWExZGRkM2ZhZDU4NGI5OGEiIHN0eWxlPSJ3aWR0aDogMTAwLjAlOyBoZWlnaHQ6IDEwMC4wJTsiPmNhOiAxIHR3ZWV0czwvZGl2PmApWzBdOwogICAgICAgICAgICAgICAgcG9wdXBfOTg5NzBiMWRkMDUyNDhiZTg5Y2RmMGZlYWM3ZTI5MTIuc2V0Q29udGVudChodG1sXzRhYzkyMWY0MWM0MDQ5OTlhMWRkZDNmYWQ1ODRiOThhKTsKICAgICAgICAgICAgCgogICAgICAgICAgICByZWd1bGFyX3BvbHlnb25fbWFya2VyXzEyYjE4ZWFkNzQ0YzQ2OTFiOGUyNjk0NmI1MGUxN2NmLmJpbmRQb3B1cChwb3B1cF85ODk3MGIxZGQwNTI0OGJlODljZGYwZmVhYzdlMjkxMikKICAgICAgICAgICAgOwoKICAgICAgICAgICAgCiAgICAgICAgCiAgICAKICAgICAgICAgICAgdmFyIHJlZ3VsYXJfcG9seWdvbl9tYXJrZXJfNDYyOTE4OWVhNTBmNGM5YmFlNDkzMTQ3MGE1M2JlZjUgPSBuZXcgTC5SZWd1bGFyUG9seWdvbk1hcmtlcigKICAgICAgICAgICAgICAgIG5ldyBMLkxhdExuZyg1NS4wNzkwMTgsOTguODUwOCksCiAgICAgICAgICAgICAgICB7CiAgICAgICAgICAgICAgICAgICAgaWNvbiA6IG5ldyBMLkljb24uRGVmYXVsdCgpLAogICAgICAgICAgICAgICAgICAgIGNvbG9yOiAnYmxhY2snLAogICAgICAgICAgICAgICAgICAgIG9wYWNpdHk6IDEsCiAgICAgICAgICAgICAgICAgICAgd2VpZ2h0OiAyLAogICAgICAgICAgICAgICAgICAgIGZpbGxDb2xvcjogJyM1ODFEQTAnLAogICAgICAgICAgICAgICAgICAgIGZpbGxPcGFjaXR5OiAxLAogICAgICAgICAgICAgICAgICAgIG51bWJlck9mU2lkZXM6IDEwLAogICAgICAgICAgICAgICAgICAgIHJvdGF0aW9uOiAwLAogICAgICAgICAgICAgICAgICAgIHJhZGl1czogOAogICAgICAgICAgICAgICAgICAgIH0KICAgICAgICAgICAgICAgICkuYWRkVG8obWFwXzg2YzkwNTYwOWI1NDRhMjk4ZTQ4ZDc3Mjg0ZDE3NjBhKTsKICAgICAgICAgICAgCiAgICAKICAgICAgICAgICAgdmFyIHBvcHVwXzY5ZGZmMjA4MmY4NTQ2MDdhMzZlM2YwMDE1NGUyZWMzID0gTC5wb3B1cCh7bWF4V2lkdGg6ICczMDAnCiAgICAgICAgICAgIAogICAgICAgICAgICB9KTsKCiAgICAgICAgICAgIAogICAgICAgICAgICAgICAgdmFyIGh0bWxfNTAwYTIwNDNkM2UzNDYyNGE2NTQxY2Q2MDZlMzFiYmUgPSAkKGA8ZGl2IGlkPSJodG1sXzUwMGEyMDQzZDNlMzQ2MjRhNjU0MWNkNjA2ZTMxYmJlIiBzdHlsZT0id2lkdGg6IDEwMC4wJTsgaGVpZ2h0OiAxMDAuMCU7Ij5ydTogMSB0d2VldHM8L2Rpdj5gKVswXTsKICAgICAgICAgICAgICAgIHBvcHVwXzY5ZGZmMjA4MmY4NTQ2MDdhMzZlM2YwMDE1NGUyZWMzLnNldENvbnRlbnQoaHRtbF81MDBhMjA0M2QzZTM0NjI0YTY1NDFjZDYwNmUzMWJiZSk7CiAgICAgICAgICAgIAoKICAgICAgICAgICAgcmVndWxhcl9wb2x5Z29uX21hcmtlcl80NjI5MTg5ZWE1MGY0YzliYWU0OTMxNDcwYTUzYmVmNS5iaW5kUG9wdXAocG9wdXBfNjlkZmYyMDgyZjg1NDYwN2EzNmUzZjAwMTU0ZTJlYzMpCiAgICAgICAgICAgIDsKCiAgICAgICAgICAgIAogICAgICAgIAogICAgCiAgICAgICAgICAgIHZhciByZWd1bGFyX3BvbHlnb25fbWFya2VyXzk0NTczNzhlOTBlNjRmNTU4ZTgyYWZjNzI3ZmJlNmY0ID0gbmV3IEwuUmVndWxhclBvbHlnb25NYXJrZXIoCiAgICAgICAgICAgICAgICBuZXcgTC5MYXRMbmcoNDIuNjE5NDYsLTcuODYzMTEyKSwKICAgICAgICAgICAgICAgIHsKICAgICAgICAgICAgICAgICAgICBpY29uIDogbmV3IEwuSWNvbi5EZWZhdWx0KCksCiAgICAgICAgICAgICAgICAgICAgY29sb3I6ICdibGFjaycsCiAgICAgICAgICAgICAgICAgICAgb3BhY2l0eTogMSwKICAgICAgICAgICAgICAgICAgICB3ZWlnaHQ6IDIsCiAgICAgICAgICAgICAgICAgICAgZmlsbENvbG9yOiAnIzU0RjYxQicsCiAgICAgICAgICAgICAgICAgICAgZmlsbE9wYWNpdHk6IDEsCiAgICAgICAgICAgICAgICAgICAgbnVtYmVyT2ZTaWRlczogMTAsCiAgICAgICAgICAgICAgICAgICAgcm90YXRpb246IDAsCiAgICAgICAgICAgICAgICAgICAgcmFkaXVzOiA4CiAgICAgICAgICAgICAgICAgICAgfQogICAgICAgICAgICAgICAgKS5hZGRUbyhtYXBfODZjOTA1NjA5YjU0NGEyOThlNDhkNzcyODRkMTc2MGEpOwogICAgICAgICAgICAKICAgIAogICAgICAgICAgICB2YXIgcG9wdXBfZGMzZGRhMGI0MmM4NGRjMGE1ZTRlYjE0MWY2YWUxM2UgPSBMLnBvcHVwKHttYXhXaWR0aDogJzMwMCcKICAgICAgICAgICAgCiAgICAgICAgICAgIH0pOwoKICAgICAgICAgICAgCiAgICAgICAgICAgICAgICB2YXIgaHRtbF9jNzVhOTY0YTk3ZTE0YmMzODcyOGNjNGQwYTNhNzEyZSA9ICQoYDxkaXYgaWQ9Imh0bWxfYzc1YTk2NGE5N2UxNGJjMzg3MjhjYzRkMGEzYTcxMmUiIHN0eWxlPSJ3aWR0aDogMTAwLjAlOyBoZWlnaHQ6IDEwMC4wJTsiPmVzOiAxIHR3ZWV0czwvZGl2PmApWzBdOwogICAgICAgICAgICAgICAgcG9wdXBfZGMzZGRhMGI0MmM4NGRjMGE1ZTRlYjE0MWY2YWUxM2Uuc2V0Q29udGVudChodG1sX2M3NWE5NjRhOTdlMTRiYzM4NzI4Y2M0ZDBhM2E3MTJlKTsKICAgICAgICAgICAgCgogICAgICAgICAgICByZWd1bGFyX3BvbHlnb25fbWFya2VyXzk0NTczNzhlOTBlNjRmNTU4ZTgyYWZjNzI3ZmJlNmY0LmJpbmRQb3B1cChwb3B1cF9kYzNkZGEwYjQyYzg0ZGMwYTVlNGViMTQxZjZhZTEzZSkKICAgICAgICAgICAgOwoKICAgICAgICAgICAgCiAgICAgICAgCjwvc2NyaXB0Pg==\" style=\"position:absolute;width:100%;height:100%;left:0;top:0;border:none !important;\" allowfullscreen webkitallowfullscreen mozallowfullscreen></iframe></div></div>"
      ],
      "text/plain": [
       "<folium.folium.Map at 0x1bccc3751d0>"
      ]
     },
     "execution_count": 56,
     "metadata": {},
     "output_type": "execute_result"
    }
   ],
   "source": [
    "import branca\n",
    "boulder_coords = [42.61946, -7.863112]\n",
    "polygon_map = folium.Map(location = boulder_coords, zoom_start = 1)\n",
    "html=\"\"\"\n",
    "    <h3>Tweets Info</h3>\n",
    "    <pre>{} Total Tweets,\n",
    "{} Positives,\n",
    "{} Negatives.\n",
    "    <pre>\n",
    "    \"\"\".format(\"619\",\"169\",\"69\")\n",
    "iframe = branca.element.IFrame(html=html, width=350, height=200)\n",
    "popup = folium.Popup(iframe, max_width=350)\n",
    "\n",
    "# key+\": {} tweets\".format(value[-1])\n",
    "\n",
    "colors = ncolors(len(coord_dict))\n",
    "i=0\n",
    "for key, value in coord_dict.items():\n",
    "    folium.RegularPolygonMarker(value[:-1],  fill_color = colors[i],popup = key+\": {} tweets\".format(value[-1]),\n",
    "                             number_of_sides = 10, radius = 8).add_to(polygon_map)\n",
    "    i+=1\n",
    "\n",
    "\n",
    "polygon_map.get_root().add_child(macro)\n",
    "polygon_map"
   ]
  },
  {
   "cell_type": "code",
   "execution_count": 25,
   "metadata": {},
   "outputs": [],
   "source": [
    "template = \"\"\"\n",
    "{% macro html(this, kwargs) %}\n",
    "\n",
    "<!doctype html>\n",
    "<html lang=\"en\">\n",
    "<head>\n",
    "  <meta charset=\"utf-8\">\n",
    "  <meta name=\"viewport\" content=\"width=device-width, initial-scale=1\">\n",
    "  <title>jQuery UI Draggable - Default functionality</title>\n",
    "  <link rel=\"stylesheet\" href=\"//code.jquery.com/ui/1.12.1/themes/base/jquery-ui.css\">\n",
    "\n",
    "  <script src=\"https://code.jquery.com/jquery-1.12.4.js\"></script>\n",
    "  <script src=\"https://code.jquery.com/ui/1.12.1/jquery-ui.js\"></script>\n",
    "  \n",
    "  <script>\n",
    "  $( function() {\n",
    "    $( \"#maplegend\" ).draggable({\n",
    "                    start: function (event, ui) {\n",
    "                        $(this).css({\n",
    "                            right: \"auto\",\n",
    "                            top: \"auto\",\n",
    "                            bottom: \"auto\"\n",
    "                        });\n",
    "                    }\n",
    "                });\n",
    "});\n",
    "\n",
    "  </script>\n",
    "</head>\n",
    "<body>\n",
    "\n",
    " \n",
    "<div id='maplegend' class='maplegend' \n",
    "    style='position: absolute; z-index:9999; border:2px solid grey; background-color:rgba(255, 255, 255, 0.8);\n",
    "     border-radius:6px; padding: 10px; font-size:14px; right: 20px; bottom: 20px;'>\n",
    "     \n",
    "<div class='legend-title'>Legend (draggable!)</div>\n",
    "<div class='legend-scale'>\n",
    "  <ul class='legend-labels'>\n",
    "    <li><span style='background:red;opacity:0.7;'></span>Big</li>\n",
    "    <li><span style='background:orange;opacity:0.7;'></span>Medium</li>\n",
    "    <li><span style='background:green;opacity:0.7;'></span>Small</li>\n",
    "\n",
    "  </ul>\n",
    "</div>\n",
    "</div>\n",
    " \n",
    "</body>\n",
    "</html>\n",
    "\n",
    "<style type='text/css'>\n",
    "  .maplegend .legend-title {\n",
    "    text-align: left;\n",
    "    margin-bottom: 5px;\n",
    "    font-weight: bold;\n",
    "    font-size: 90%;\n",
    "    }\n",
    "  .maplegend .legend-scale ul {\n",
    "    margin: 0;\n",
    "    margin-bottom: 5px;\n",
    "    padding: 0;\n",
    "    float: left;\n",
    "    list-style: none;\n",
    "    }\n",
    "  .maplegend .legend-scale ul li {\n",
    "    font-size: 80%;\n",
    "    list-style: none;\n",
    "    margin-left: 0;\n",
    "    line-height: 18px;\n",
    "    margin-bottom: 2px;\n",
    "    }\n",
    "  .maplegend ul.legend-labels li span {\n",
    "    display: block;\n",
    "    float: left;\n",
    "    height: 16px;\n",
    "    width: 30px;\n",
    "    margin-right: 5px;\n",
    "    margin-left: 0;\n",
    "    border: 1px solid #999;\n",
    "    }\n",
    "  .maplegend .legend-source {\n",
    "    font-size: 80%;\n",
    "    color: #777;\n",
    "    clear: both;\n",
    "    }\n",
    "  .maplegend a {\n",
    "    color: #777;\n",
    "    }\n",
    "</style>\n",
    "{% endmacro %}\"\"\"\n",
    "\n",
    "macro = MacroElement()\n",
    "macro._template = Template(template)"
   ]
  },
  {
   "cell_type": "code",
   "execution_count": null,
   "metadata": {},
   "outputs": [],
   "source": []
  }
 ],
 "metadata": {
  "kernelspec": {
   "display_name": "Python 3",
   "language": "python",
   "name": "python3"
  },
  "language_info": {
   "codemirror_mode": {
    "name": "ipython",
    "version": 3
   },
   "file_extension": ".py",
   "mimetype": "text/x-python",
   "name": "python",
   "nbconvert_exporter": "python",
   "pygments_lexer": "ipython3",
   "version": "3.6.7"
  }
 },
 "nbformat": 4,
 "nbformat_minor": 2
}
