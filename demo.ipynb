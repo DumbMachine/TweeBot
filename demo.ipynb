{
 "cells": [
  {
   "cell_type": "code",
   "execution_count": 52,
   "metadata": {},
   "outputs": [],
   "source": [
    "import seaborn as sns\n",
    "import tweepy\n",
    "from textblob import TextBlob\n",
    "import matplotlib.pyplot as plt\n",
    "from nltk.corpus import stopwords\n",
    "import requests\n",
    "import json\n",
    "import random\n",
    "import folium\n",
    "import copy\n",
    "from folium.plugins import MarkerCluster\n",
    "from branca.element import Template, MacroElement\n",
    "KEY= \"G5XlhCqsGp7pxVgAjGTFu04yYvnD8esq\"\n"
   ]
  },
  {
   "cell_type": "code",
   "execution_count": 4,
   "metadata": {},
   "outputs": [],
   "source": [
    "consumer_key =  '2XZ8WwA60fjcn30nUwMcZGNoZ'\n",
    "consumer_secret = 'dlWKue8WH17vPRJO3bUJb9w4I1KJHQaD6MV7W0eTJFmeKQ6Gcm'\n",
    "access_token = '753985003328012288-tPRbv9Za68YBLdelJEznkud2vJSkxQj'\n",
    "access_token_secret = 'mEXfWUrHdwKLDLlqObzWsI9AHB6pdpnM1xNFH0IV8Pmju'\n",
    "auth = tweepy.OAuthHandler(consumer_key, consumer_secret)\n",
    "auth.set_access_token(access_token, access_token_secret)\n",
    "api = tweepy.API(auth)"
   ]
  },
  {
   "cell_type": "code",
   "execution_count": 159,
   "metadata": {},
   "outputs": [],
   "source": [
    "tweets = []\n",
    "for page in tweepy.Cursor(api.search , q=\"#trump\" , count = 10 ,languages=[\"en\"],tweet_mode='extended').pages(8):\n",
    "    for tweet in page:\n",
    "        hashtags_=[]\n",
    "        urls=[]\n",
    "        for hashtag in tweet.entities[\"hashtags\"]:\n",
    "            hashtags_.append(hashtag[\"text\"])\n",
    "#        for media in tweet.entities[\"media\"]:\n",
    "#            urls.append(media[\"expanded_url\"])\n",
    "        geo_url = \"https://www.mapquestapi.com/geocoding/v1/address?key=KEY&inFormat=kvp&outFormat=json&location=LOCATION&thumbMaps=false\".replace(\"KEY\", KEY).replace(\"LOCATION\",tweet.user.location)\n",
    "        try:\n",
    "            r = requests.get(url = geo_url)\n",
    "            location = json.loads(r.content.decode('utf-8'))[\"results\"][0][\"locations\"][0][\"adminArea1\"]\n",
    "            coordinates = [json.loads(r.content.decode('utf-8'))[\"results\"][0][\"locations\"][0][\"latLng\"][\"lat\"],json.loads(r.content.decode('utf-8'))[\"results\"][0][\"locations\"][0][\"latLng\"][\"lng\"]]\n",
    "        except:\n",
    "            location = \"\"\n",
    "            coordinates = []\n",
    "        twe = {\"text\": tweet.full_text,\n",
    "               \"cleaned_text\": \" \".join([word for word in tweet.full_text.split() if word not in stopwords.words('english')]).replace(\"#\",\"\").replace(\"*\",\"\"),\n",
    "               \"location\": location.lower(),\n",
    "               \"username\": tweet.user.screen_name,\n",
    "               \"retweets\": tweet.retweet_count,\n",
    "               \"favcount\": tweet.user.favourites_count,\n",
    "               \"hastags\": hashtags_,\n",
    "               \"coordinates\" : coordinates,\n",
    "               \"sentiment\": TextBlob(\" \".join([word for word in tweet.full_text.split() if word not in stopwords.words('english')])).sentiment.polarity,\n",
    "               \"subjectivity\": TextBlob(\" \".join([word for word in tweet.full_text.split() if word not in stopwords.words('english')])).sentiment.subjectivity,\n",
    "                }\n",
    "        tweets.append(twe)\n"
   ]
  },
  {
   "cell_type": "code",
   "execution_count": 160,
   "metadata": {},
   "outputs": [],
   "source": [
    "coord_dict = {}\n",
    "for tweet in tweets:\n",
    "    if tweet[\"location\"]:\n",
    "        coord_dict[tweet[\"location\"]] = tweet[\"coordinates\"]\n",
    "\n",
    "x=copy.deepcopy(coord_dict)\n",
    "for key in x:\n",
    "    x[key] = [0,0] \n",
    "    \n",
    "for key in x:\n",
    "    for tweet in tweets:\n",
    "        if key == tweet[\"location\"]:\n",
    "            if tweet[\"sentiment\"]>0:\n",
    "                x[key][0]+=1\n",
    "            else:\n",
    "                x[key][1]+=1"
   ]
  },
  {
   "cell_type": "code",
   "execution_count": 161,
   "metadata": {},
   "outputs": [],
   "source": [
    "locations = []\n",
    "for tweet in tweets:\n",
    "    if tweet[\"location\"]:\n",
    "        locations.append(tweet[\"location\"])\n",
    "        \n",
    "        \n",
    "from collections import Counter\n",
    "myDict=Counter(locations)\n",
    "myDict= dict(myDict)\n",
    "\n",
    "\n",
    "for coord in coord_dict:\n",
    "    coord_dict[coord].append(myDict[coord])\n",
    "    coord_dict[coord].append(x[coord])"
   ]
  },
  {
   "cell_type": "code",
   "execution_count": 162,
   "metadata": {},
   "outputs": [
    {
     "data": {
      "text/plain": [
       "({'bd': 1,\n",
       "  'us': 33,\n",
       "  'fr': 2,\n",
       "  'lv': 1,\n",
       "  'gb': 3,\n",
       "  'ua': 1,\n",
       "  'ca': 2,\n",
       "  'it': 1,\n",
       "  'ae': 1},\n",
       " {'bd': [23.728216, 90.409879, 1, [1, 0]],\n",
       "  'us': [38.892062, -77.019912, 33, [10, 23]],\n",
       "  'fr': [43.295755, -0.368567, 2, [1, 1]],\n",
       "  'lv': [56.956834, 23.945208, 1, [0, 1]],\n",
       "  'gb': [53.797419, -1.543794, 3, [1, 2]],\n",
       "  'ua': [50.44773, 30.54272, 1, [0, 1]],\n",
       "  'ca': [43.651893, -79.381713, 2, [1, 1]],\n",
       "  'it': [42.295226, 12.40917, 1, [0, 1]],\n",
       "  'ae': [25.268352, 55.296196, 1, [0, 1]]})"
      ]
     },
     "execution_count": 162,
     "metadata": {},
     "output_type": "execute_result"
    }
   ],
   "source": [
    "myDict, coord_dict"
   ]
  },
  {
   "cell_type": "code",
   "execution_count": null,
   "metadata": {},
   "outputs": [],
   "source": []
  },
  {
   "cell_type": "code",
   "execution_count": 163,
   "metadata": {},
   "outputs": [
    {
     "data": {
      "text/plain": [
       "{'bd': [23.728216, 90.409879, 1, [1, 0]],\n",
       " 'us': [38.892062, -77.019912, 33, [10, 23]],\n",
       " 'fr': [43.295755, -0.368567, 2, [1, 1]],\n",
       " 'lv': [56.956834, 23.945208, 1, [0, 1]],\n",
       " 'gb': [53.797419, -1.543794, 3, [1, 2]],\n",
       " 'ua': [50.44773, 30.54272, 1, [0, 1]],\n",
       " 'ca': [43.651893, -79.381713, 2, [1, 1]],\n",
       " 'it': [42.295226, 12.40917, 1, [0, 1]],\n",
       " 'ae': [25.268352, 55.296196, 1, [0, 1]]}"
      ]
     },
     "execution_count": 163,
     "metadata": {},
     "output_type": "execute_result"
    }
   ],
   "source": [
    "coord_dict"
   ]
  },
  {
   "cell_type": "code",
   "execution_count": 135,
   "metadata": {
    "collapsed": true
   },
   "outputs": [
    {
     "data": {
      "text/plain": [
       "{'ca': [0, 0],\n",
       " 'us': [0, 0],\n",
       " 'ir': [0, 0],\n",
       " 'pk': [0, 0],\n",
       " 'cn': [0, 0],\n",
       " 'sk': [0, 0],\n",
       " 'fr': [0, 0],\n",
       " 'se': [0, 0],\n",
       " 'be': [0, 0],\n",
       " 've': [0, 0],\n",
       " 'ae': [0, 0],\n",
       " 'ch': [0, 0],\n",
       " 'gb': [0, 0],\n",
       " 'nl': [0, 0],\n",
       " 'de': [0, 0]}"
      ]
     },
     "execution_count": 135,
     "metadata": {},
     "output_type": "execute_result"
    }
   ],
   "source": []
  },
  {
   "cell_type": "code",
   "execution_count": 164,
   "metadata": {},
   "outputs": [
    {
     "data": {
      "text/plain": [
       "{'bd': [2, 0],\n",
       " 'us': [20, 46],\n",
       " 'fr': [2, 2],\n",
       " 'lv': [0, 2],\n",
       " 'gb': [2, 4],\n",
       " 'ua': [0, 2],\n",
       " 'ca': [2, 2],\n",
       " 'it': [0, 2],\n",
       " 'ae': [0, 2]}"
      ]
     },
     "execution_count": 164,
     "metadata": {},
     "output_type": "execute_result"
    }
   ],
   "source": [
    "#Generating the positive and negative comments of countries\n",
    "for key in x:\n",
    "    for tweet in tweets:\n",
    "        if key == tweet[\"location\"]:\n",
    "            if tweet[\"sentiment\"]>0:\n",
    "                x[key][0]+=1\n",
    "            else:\n",
    "                x[key][1]+=1\n",
    "x            "
   ]
  },
  {
   "cell_type": "code",
   "execution_count": 79,
   "metadata": {},
   "outputs": [
    {
     "data": {
      "text/plain": [
       "14"
      ]
     },
     "execution_count": 79,
     "metadata": {},
     "output_type": "execute_result"
    }
   ],
   "source": [
    "    "
   ]
  },
  {
   "cell_type": "code",
   "execution_count": 165,
   "metadata": {},
   "outputs": [],
   "source": [
    "x= [tweet[\"sentiment\"] for tweet in tweets]\n",
    "y = [tweet[\"subjectivity\"] for tweet in tweets]\n",
    "\n",
    "pos_x = []\n",
    "pos_y = []\n",
    "neg_x = []\n",
    "neg_y=  []\n",
    "\n",
    "for tweet in tweets:\n",
    "    if tweet[\"sentiment\"]>0:\n",
    "        pos_x.append(tweet[\"sentiment\"])\n",
    "        pos_y.append(tweet[\"subjectivity\"])\n",
    "        \n",
    "for tweet in tweets:\n",
    "    if tweet[\"sentiment\"]<0:\n",
    "        neg_x.append(tweet[\"sentiment\"])\n",
    "        neg_y.append(tweet[\"subjectivity\"])"
   ]
  },
  {
   "cell_type": "code",
   "execution_count": 150,
   "metadata": {
    "scrolled": true
   },
   "outputs": [
    {
     "data": {
      "text/plain": [
       "[0.30378787878787883,\n",
       " 0.85,\n",
       " 0.19305555555555554,\n",
       " 0.4,\n",
       " 0.25,\n",
       " 0.2,\n",
       " 0.08333333333333333,\n",
       " 0.3,\n",
       " 0.16666666666666666,\n",
       " 0.1,\n",
       " 0.1,\n",
       " 0.5,\n",
       " 0.16666666666666666,\n",
       " 0.85,\n",
       " 0.2,\n",
       " 0.6,\n",
       " 0.13636363636363635,\n",
       " 0.16,\n",
       " 0.30378787878787883,\n",
       " 0.058333333333333355,\n",
       " 0.25,\n",
       " 0.13636363636363635,\n",
       " 0.6,\n",
       " 0.5666666666666667,\n",
       " 0.2,\n",
       " 0.17045454545454544,\n",
       " 0.4,\n",
       " 0.6000000000000001]"
      ]
     },
     "execution_count": 150,
     "metadata": {},
     "output_type": "execute_result"
    }
   ],
   "source": [
    "pos_x"
   ]
  },
  {
   "cell_type": "code",
   "execution_count": 166,
   "metadata": {},
   "outputs": [
    {
     "data": {
      "text/plain": [
       "Text(0, 0.5, 'Polarity of the tweet')"
      ]
     },
     "execution_count": 166,
     "metadata": {},
     "output_type": "execute_result"
    },
    {
     "data": {
      "image/png": "[encoded data removed]",
      "text/plain": [
       "<Figure size 1584x288 with 1 Axes>"
      ]
     },
     "metadata": {},
     "output_type": "display_data"
    }
   ],
   "source": [
    "#########################################Plots################################3\n",
    "#------------------------------LinePlot\n",
    "fig, ax = plt.subplots(facecolor='#000000')\n",
    "ax.grid(b=False)\n",
    "plt.plot(x, color='#FF8C00')\n",
    "plt.rcParams['axes.facecolor'] = \"#000000\"\n",
    "plt.rcParams['lines.linewidth'] = 2\n",
    "plt.rcParams[\"figure.figsize\"] = [11,4]\n",
    "ax.tick_params(axis='x', colors='#4666FF')\n",
    "ax.tick_params(axis='y', colors='yellow')\n",
    "ax.set_xlabel(\"Number of Tweets\",color = 'white')\n",
    "ax.set_ylabel(\"Polarity of the tweet\",color = 'white')\n",
    "\n",
    "\n",
    "# Be sure to specify facecolor or it won't look right in Illustrator\n",
    "#fig.savefig(\"output.pdf\", facecolor=fig.get_facecolor(), transparent=True)"
   ]
  },
  {
   "cell_type": "code",
   "execution_count": 167,
   "metadata": {},
   "outputs": [
    {
     "data": {
      "text/plain": [
       "<matplotlib.axes._subplots.AxesSubplot at 0x1bccdf5b5f8>"
      ]
     },
     "execution_count": 167,
     "metadata": {},
     "output_type": "execute_result"
    },
    {
     "data": {
      "image/png": "[encoded data removed]",
      "text/plain": [
       "<Figure size 792x288 with 2 Axes>"
      ]
     },
     "metadata": {
      "needs_background": "light"
     },
     "output_type": "display_data"
    }
   ],
   "source": [
    "#----------------------------HeatPlot\n",
    "sns.heatmap([x,y])  "
   ]
  },
  {
   "cell_type": "code",
   "execution_count": 168,
   "metadata": {},
   "outputs": [
    {
     "data": {
      "text/plain": [
       "Text(0, 0.5, 'Polarity of the tweet')"
      ]
     },
     "execution_count": 168,
     "metadata": {},
     "output_type": "execute_result"
    },
    {
     "data": {
      "image/png": "[encoded data removed]",
      "text/plain": [
       "<Figure size 792x288 with 1 Axes>"
      ]
     },
     "metadata": {},
     "output_type": "display_data"
    }
   ],
   "source": [
    "##POSTIVE AND NEGATIVE DIFFERENT COLORS PLX\n",
    "fig, ax = plt.subplots(facecolor='#000000')\n",
    "ax.grid(b=False)\n",
    "plt.scatter(pos_y,pos_x, color='yellow')\n",
    "plt.scatter(neg_y,neg_x, color = \"red\")\n",
    "#plt.scatter(x,y)\n",
    "plt.rcParams['axes.facecolor'] = \"#000000\"\n",
    "plt.rcParams['lines.linewidth'] = 2\n",
    "plt.rcParams[\"figure.figsize\"] = [11,4]\n",
    "ax.tick_params(axis='x', colors='white')\n",
    "ax.tick_params(axis='y', colors='white')\n",
    "ax.set_xlabel(\"Number of Tweets\",color = 'white')\n",
    "ax.set_ylabel(\"Polarity of the tweet\",color = 'white')\n"
   ]
  },
  {
   "cell_type": "code",
   "execution_count": 169,
   "metadata": {},
   "outputs": [
    {
     "data": {
      "text/plain": [
       "Text(0, 0.5, 'Polarity of the tweet')"
      ]
     },
     "execution_count": 169,
     "metadata": {},
     "output_type": "execute_result"
    },
    {
     "data": {
      "image/png": "[encoded data removed]",
      "text/plain": [
       "<Figure size 792x288 with 1 Axes>"
      ]
     },
     "metadata": {},
     "output_type": "display_data"
    }
   ],
   "source": [
    "fig, ax = plt.subplots(facecolor='#000000')\n",
    "plt.plot(pos_x, color='#FF8C00')\n",
    "plt.rcParams['axes.facecolor'] = \"#000000\"\n",
    "plt.rcParams['lines.linewidth'] = 2\n",
    "plt.rcParams[\"figure.figsize\"] = [22,4]\n",
    "#plt.xticks([i*100 for i in range(30)])\n",
    "ax.tick_params(axis='x', colors='#4666FF')\n",
    "ax.tick_params(axis='y', colors='yellow')\n",
    "ax.set_xlabel(\"Number of Tweets\",color = 'white')\n",
    "ax.set_ylabel(\"Polarity of the tweet\",color = 'white')"
   ]
  },
  {
   "cell_type": "code",
   "execution_count": 170,
   "metadata": {},
   "outputs": [
    {
     "name": "stdout",
     "output_type": "stream",
     "text": [
      "bd [23.728216, 90.409879, 1, [2, 0]]\n",
      "us [38.892062, -77.019912, 33, [20, 46]]\n",
      "fr [43.295755, -0.368567, 2, [2, 2]]\n",
      "lv [56.956834, 23.945208, 1, [0, 2]]\n",
      "gb [53.797419, -1.543794, 3, [2, 4]]\n",
      "ua [50.44773, 30.54272, 1, [0, 2]]\n",
      "ca [43.651893, -79.381713, 2, [2, 2]]\n",
      "it [42.295226, 12.40917, 1, [0, 2]]\n",
      "ae [25.268352, 55.296196, 1, [0, 2]]\n"
     ]
    }
   ],
   "source": [
    "for key, value in coord_dict.items():\n",
    "    print(key , value)"
   ]
  },
  {
   "cell_type": "code",
   "execution_count": 171,
   "metadata": {},
   "outputs": [],
   "source": [
    "def ncolors(n):\n",
    "    r = lambda: random.randint(0,255)\n",
    "    return [('#%02X%02X%02X' % (r(),r(),r())) for _ in range(n)]\n",
    "#[47.94143, 16.08154, 1, [0, 0]]"
   ]
  },
  {
   "cell_type": "code",
   "execution_count": 172,
   "metadata": {},
   "outputs": [
    {
     "data": {
      "text/html": [
       "<div style=\"width:100%;\"><div style=\"position:relative;width:100%;height:0;padding-bottom:60%;\"><iframe src=\"data:text/html;charset=utf-8;base64,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\" style=\"position:absolute;width:100%;height:100%;left:0;top:0;border:none !important;\" allowfullscreen webkitallowfullscreen mozallowfullscreen></iframe></div></div>"
      ],
      "text/plain": [
       "<folium.folium.Map at 0x1bccccb1c50>"
      ]
     },
     "execution_count": 172,
     "metadata": {},
     "output_type": "execute_result"
    }
   ],
   "source": [
    "import branca\n",
    "boulder_coords = [42.61946, -7.863112]\n",
    "polygon_map = folium.Map(location = boulder_coords, zoom_start = 1)\n",
    "html=\"\"\"\n",
    "    <h3>Tweets Info</h3>\n",
    "    <pre>{} Total Tweets,\n",
    "{} Positives,\n",
    "{} Negatives.\n",
    "    <pre>\n",
    "    \"\"\".format(\"619\",\"169\",\"69\")\n",
    "iframe = branca.element.IFrame(html=html, width=350, height=200)\n",
    "popup = folium.Popup(iframe, max_width=350)\n",
    "\n",
    "# key+\": {} tweets\".format(value[-1])\n",
    "\n",
    "colors = ncolors(len(coord_dict))\n",
    "i=0\n",
    "for key, value in coord_dict.items():\n",
    "    folium.RegularPolygonMarker(value[:-2],  fill_color = colors[i],popup = str(value[-2])+\" \"+str(value[-1]),\n",
    "                             number_of_sides = 10, radius = 8).add_to(polygon_map)\n",
    "    i+=1\n",
    "\n",
    "\n",
    "polygon_map.get_root().add_child(macro)\n",
    "polygon_map"
   ]
  },
  {
   "cell_type": "code",
   "execution_count": 146,
   "metadata": {},
   "outputs": [],
   "source": [
    "template = \"\"\"\n",
    "{% macro html(this, kwargs) %}\n",
    "\n",
    "<!doctype html>\n",
    "<html lang=\"en\">\n",
    "<head>\n",
    "  <meta charset=\"utf-8\">\n",
    "  <meta name=\"viewport\" content=\"width=device-width, initial-scale=1\">\n",
    "  <title>jQuery UI Draggable - Default functionality</title>\n",
    "  <link rel=\"stylesheet\" href=\"//code.jquery.com/ui/1.12.1/themes/base/jquery-ui.css\">\n",
    "\n",
    "  <script src=\"https://code.jquery.com/jquery-1.12.4.js\"></script>\n",
    "  <script src=\"https://code.jquery.com/ui/1.12.1/jquery-ui.js\"></script>\n",
    "  \n",
    "  <script>\n",
    "  $( function() {\n",
    "    $( \"#maplegend\" ).draggable({\n",
    "                    start: function (event, ui) {\n",
    "                        $(this).css({\n",
    "                            right: \"auto\",\n",
    "                            top: \"auto\",\n",
    "                            bottom: \"auto\"\n",
    "                        });\n",
    "                    }\n",
    "                });\n",
    "});\n",
    "  </script>\n",
    "</head>\n",
    "<body>\n",
    "\n",
    " \n",
    "<div id='maplegend' class='maplegend' \n",
    "    style='position: absolute; z-index:9999; border:2px solid grey; background-color:rgba(255, 255, 255, 0.8);\n",
    "     border-radius:6px; padding: 10px; font-size:14px; right: 20px; bottom: 20px;'>\n",
    "     \n",
    "<div class='legend-title'>Legend (draggable!)</div>\n",
    "<div class='legend-scale'>\n",
    "  <ul class='legend-labels'>\n",
    "    <li><span style='background:red;opacity:0.7;'></span>Big</li>\n",
    "    <li><span style='background:orange;opacity:0.7;'></span>Medium</li>\n",
    "    <li><span style='background:green;opacity:0.7;'></span>Small</li>\n",
    "\n",
    "  </ul>\n",
    "</div>\n",
    "</div>\n",
    " \n",
    "</body>\n",
    "</html>\n",
    "\n",
    "<style type='text/css'>\n",
    "  .maplegend .legend-title {\n",
    "    text-align: left;\n",
    "    margin-bottom: 5px;\n",
    "    font-weight: bold;\n",
    "    font-size: 90%;\n",
    "    }\n",
    "  .maplegend .legend-scale ul {\n",
    "    margin: 0;\n",
    "    margin-bottom: 5px;\n",
    "    padding: 0;\n",
    "    float: left;\n",
    "    list-style: none;\n",
    "    }\n",
    "  .maplegend .legend-scale ul li {\n",
    "    font-size: 80%;\n",
    "    list-style: none;\n",
    "    margin-left: 0;\n",
    "    line-height: 18px;\n",
    "    margin-bottom: 2px;\n",
    "    }\n",
    "  .maplegend ul.legend-labels li span {\n",
    "    display: block;\n",
    "    float: left;\n",
    "    height: 16px;\n",
    "    width: 30px;\n",
    "    margin-right: 5px;\n",
    "    margin-left: 0;\n",
    "    border: 1px solid #999;\n",
    "    }\n",
    "  .maplegend .legend-source {\n",
    "    font-size: 80%;\n",
    "    color: #777;\n",
    "    clear: both;\n",
    "    }\n",
    "  .maplegend a {\n",
    "    color: #777;\n",
    "    }\n",
    "</style>\n",
    "{% endmacro %}\"\"\"\n",
    "\n",
    "macro = MacroElement()\n",
    "macro._template = Template(template)"
   ]
  },
  {
   "cell_type": "code",
   "execution_count": null,
   "metadata": {},
   "outputs": [],
   "source": []
  }
 ],
 "metadata": {
  "kernelspec": {
   "display_name": "Python 3",
   "language": "python",
   "name": "python3"
  },
  "language_info": {
   "codemirror_mode": {
    "name": "ipython",
    "version": 3
   },
   "file_extension": ".py",
   "mimetype": "text/x-python",
   "name": "python",
   "nbconvert_exporter": "python",
   "pygments_lexer": "ipython3",
   "version": "3.6.7"
  }
 },
 "nbformat": 4,
 "nbformat_minor": 2
}
